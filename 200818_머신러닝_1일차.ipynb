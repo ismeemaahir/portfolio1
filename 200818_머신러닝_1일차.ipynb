{
  "nbformat": 4,
  "nbformat_minor": 0,
  "metadata": {
    "colab": {
      "name": "200818_머신러닝_1일차.ipynb",
      "provenance": [],
      "collapsed_sections": [],
      "authorship_tag": "ABX9TyP06dn63Hc5qTaGS7ccva9o",
      "include_colab_link": true
    },
    "kernelspec": {
      "name": "python3",
      "display_name": "Python 3"
    }
  },
  "cells": [
    {
      "cell_type": "markdown",
      "metadata": {
        "id": "view-in-github",
        "colab_type": "text"
      },
      "source": [
        "<a href=\"https://colab.research.google.com/github/ismeemaahir/portfolio1/blob/master/200818_%EB%A8%B8%EC%8B%A0%EB%9F%AC%EB%8B%9D_1%EC%9D%BC%EC%B0%A8.ipynb\" target=\"_parent\"><img src=\"https://colab.research.google.com/assets/colab-badge.svg\" alt=\"Open In Colab\"/></a>"
      ]
    },
    {
      "cell_type": "code",
      "metadata": {
        "id": "QtBP0Co6-pKZ",
        "colab_type": "code",
        "colab": {
          "base_uri": "https://localhost:8080/",
          "height": 35
        },
        "outputId": "dde443bd-cb5c-4aa5-d71f-b5379ac5d9c8"
      },
      "source": [
        "import sklearn\n",
        "print(sklearn.__version__)"
      ],
      "execution_count": 1,
      "outputs": [
        {
          "output_type": "stream",
          "text": [
            "0.22.2.post1\n"
          ],
          "name": "stdout"
        }
      ]
    },
    {
      "cell_type": "code",
      "metadata": {
        "id": "CY1H7clL-2pY",
        "colab_type": "code",
        "colab": {}
      },
      "source": [
        "### 1. 개요\n",
        "### - iris 붓꽃 분류모형을 만든다"
      ],
      "execution_count": 5,
      "outputs": []
    },
    {
      "cell_type": "markdown",
      "metadata": {
        "id": "L4UQzaTXDh7Y",
        "colab_type": "text"
      },
      "source": [
        "1. 개요\n",
        "- iris 붓꽃 분류모형을 만든다"
      ]
    },
    {
      "cell_type": "markdown",
      "metadata": {
        "id": "f6_QUMo5Cguz",
        "colab_type": "text"
      },
      "source": [
        "**개요**\n",
        "- iris 붓꽃 분류모형을 만든다"
      ]
    },
    {
      "cell_type": "markdown",
      "metadata": {
        "id": "OTr9L68vG_tG",
        "colab_type": "text"
      },
      "source": [
        "# 새 섹션"
      ]
    },
    {
      "cell_type": "code",
      "metadata": {
        "id": "jYjle8TYBJ7y",
        "colab_type": "code",
        "colab": {}
      },
      "source": [
        "### (2) 데이터 불러오기\n",
        "### - sklearn 패키지 내장데이터 있음"
      ],
      "execution_count": 6,
      "outputs": []
    },
    {
      "cell_type": "code",
      "metadata": {
        "id": "aQRGPqhNBi_s",
        "colab_type": "code",
        "colab": {
          "base_uri": "https://localhost:8080/",
          "height": 53
        },
        "outputId": "41ac8c89-d8e9-4f71-cd42-e7ddb037e8e4"
      },
      "source": [
        "from sklearn.datasets import load_iris\n",
        "iris = load_iris()  #번치 형태의 데이터셋으로 구성되어 있음\n",
        "\n",
        "# 독립변수 구성된 데이터\n",
        "iris_data = iris.data\n",
        "#종속변수\n",
        "iris_label = iris.target\n",
        "\n",
        "print('iris target 값:', iris_label[[0,50,100]])\n",
        "print('iris target 명:', iris.target_names)\n"
      ],
      "execution_count": 14,
      "outputs": [
        {
          "output_type": "stream",
          "text": [
            "iris target 값: [0 1 2]\n",
            "iris target 명: ['setosa' 'versicolor' 'virginica']\n"
          ],
          "name": "stdout"
        }
      ]
    },
    {
      "cell_type": "code",
      "metadata": {
        "id": "_JQfs2iyBu_x",
        "colab_type": "code",
        "colab": {}
      },
      "source": [
        ""
      ],
      "execution_count": null,
      "outputs": []
    },
    {
      "cell_type": "markdown",
      "metadata": {
        "id": "H_2c6NGIEaGs",
        "colab_type": "text"
      },
      "source": [
        "### (2) 데이터 전처리\n",
        "-상황: numpy 형태, 테스트\n",
        "-방법: pandas를 활용해서, 데이터 프레임 만들기\n",
        "-ref. How to convert a Scikit-learn dataset to a Pandas dataset?(https://stackoverflow.com/questions/38105539/how-to-convert-a-scikit-learn-dataset-to-a-pandas-dataset/46379878#46379878)"
      ]
    },
    {
      "cell_type": "code",
      "metadata": {
        "id": "ba7qSyVHH_-j",
        "colab_type": "code",
        "colab": {
          "base_uri": "https://localhost:8080/",
          "height": 208
        },
        "outputId": "d31d34b7-1c9a-4ec2-9d57-7accb52fbcb8"
      },
      "source": [
        "from sklearn import datasets\n",
        "import pandas as pd\n",
        "\n",
        "def sklearn_to_df(sklearn_dataset):\n",
        "    df = pd.DataFrame(sklearn_dataset.data, columns=sklearn_dataset.feature_names)\n",
        "    df['target'] = pd.Series(sklearn_dataset.target)\n",
        "    return df\n",
        "\n",
        "df_boston = sklearn_to_df(datasets.load_boston())\n",
        "df_iris"
      ],
      "execution_count": 17,
      "outputs": [
        {
          "output_type": "error",
          "ename": "NameError",
          "evalue": "ignored",
          "traceback": [
            "\u001b[0;31m---------------------------------------------------------------------------\u001b[0m",
            "\u001b[0;31mNameError\u001b[0m                                 Traceback (most recent call last)",
            "\u001b[0;32m<ipython-input-17-bcef4a58f61e>\u001b[0m in \u001b[0;36m<module>\u001b[0;34m()\u001b[0m\n\u001b[1;32m      8\u001b[0m \u001b[0;34m\u001b[0m\u001b[0m\n\u001b[1;32m      9\u001b[0m \u001b[0mdf_boston\u001b[0m \u001b[0;34m=\u001b[0m \u001b[0msklearn_to_df\u001b[0m\u001b[0;34m(\u001b[0m\u001b[0mdatasets\u001b[0m\u001b[0;34m.\u001b[0m\u001b[0mload_boston\u001b[0m\u001b[0;34m(\u001b[0m\u001b[0;34m)\u001b[0m\u001b[0;34m)\u001b[0m\u001b[0;34m\u001b[0m\u001b[0;34m\u001b[0m\u001b[0m\n\u001b[0;32m---> 10\u001b[0;31m \u001b[0mdf_iris\u001b[0m\u001b[0;34m\u001b[0m\u001b[0;34m\u001b[0m\u001b[0m\n\u001b[0m",
            "\u001b[0;31mNameError\u001b[0m: name 'df_iris' is not defined"
          ]
        }
      ]
    },
    {
      "cell_type": "code",
      "metadata": {
        "id": "egc0Q8IrIb0J",
        "colab_type": "code",
        "colab": {}
      },
      "source": [
        ""
      ],
      "execution_count": null,
      "outputs": []
    }
  ]
}