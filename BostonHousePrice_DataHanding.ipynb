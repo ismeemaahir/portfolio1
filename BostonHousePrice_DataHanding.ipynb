{
  "nbformat": 4,
  "nbformat_minor": 0,
  "metadata": {
    "colab": {
      "name": "BostonHousePrice_DataHanding",
      "provenance": [],
      "collapsed_sections": [],
      "toc_visible": true,
      "authorship_tag": "ABX9TyOq6PExBKmvUBSL+6Yoqoni",
      "include_colab_link": true
    },
    "kernelspec": {
      "name": "python3",
      "display_name": "Python 3"
    }
  },
  "cells": [
    {
      "cell_type": "markdown",
      "metadata": {
        "id": "view-in-github",
        "colab_type": "text"
      },
      "source": [
        "<a href=\"https://colab.research.google.com/github/ismeemaahir/portfolio1/blob/master/BostonHousePrice_DataHanding.ipynb\" target=\"_parent\"><img src=\"https://colab.research.google.com/assets/colab-badge.svg\" alt=\"Open In Colab\"/></a>"
      ]
    },
    {
      "cell_type": "markdown",
      "metadata": {
        "id": "cRtl29ck6lEi",
        "colab_type": "text"
      },
      "source": [
        "### 2. 구글 드라이브 연동\n",
        " - 구글 코랩 시작후 드라이브 연동을 해야 데이터가 들어옴"
      ]
    },
    {
      "cell_type": "code",
      "metadata": {
        "id": "_DtbbqrYw97L",
        "colab_type": "code",
        "colab": {
          "base_uri": "https://localhost:8080/",
          "height": 163
        },
        "outputId": "1bbe7bd0-65f5-497c-91ed-aecca056e66a"
      },
      "source": [
        "from google.colab import drive # 패키지 불러오기 \n",
        "from os.path import join       #join 모듈이용해서 경로 원하는 방향대로 지정하기\n",
        "\n",
        "ROOT = \"/content/drive\"     # 드라이브 기본 경로\n",
        "print(ROOT)                 # print content of ROOT (Optional)\n",
        "drive.mount(ROOT)           # 드라이브 기본 경로 Mount\n",
        "\n",
        "MY_GOOGLE_DRIVE_PATH = 'My Drive/Colab Notebooks/boston_price/' # 프로젝트 경로/구글드라이브에 사전에 이용할 파일을 업로드하고 해당 파일이 어느 폴더에 있는지 경로를 확인해서 입력 \n",
        "PROJECT_PATH = join(ROOT, MY_GOOGLE_DRIVE_PATH) # 프로젝트 경로/구글클라우드 경로와 드라이브 기본 경로를 join을 이용해서 합침/파일경로이름을 새로 만들 수 있음\n",
        "print(PROJECT_PATH)  # 인증하라고 하면 url눌러서 인증"
      ],
      "execution_count": 1,
      "outputs": [
        {
          "output_type": "stream",
          "text": [
            "/content/drive\n",
            "Go to this URL in a browser: https://accounts.google.com/o/oauth2/auth?client_id=947318989803-6bn6qk8qdgf4n4g3pfee6491hc0brc4i.apps.googleusercontent.com&redirect_uri=urn%3aietf%3awg%3aoauth%3a2.0%3aoob&scope=email%20https%3a%2f%2fwww.googleapis.com%2fauth%2fdocs.test%20https%3a%2f%2fwww.googleapis.com%2fauth%2fdrive%20https%3a%2f%2fwww.googleapis.com%2fauth%2fdrive.photos.readonly%20https%3a%2f%2fwww.googleapis.com%2fauth%2fpeopleapi.readonly&response_type=code\n",
            "\n",
            "Enter your authorization code:\n",
            "··········\n",
            "Mounted at /content/drive\n",
            "/content/drive/My Drive/Colab Notebooks/boston_price/\n"
          ],
          "name": "stdout"
        }
      ]
    },
    {
      "cell_type": "code",
      "metadata": {
        "id": "GpsnGd4Q83ei",
        "colab_type": "code",
        "colab": {
          "base_uri": "https://localhost:8080/",
          "height": 35
        },
        "outputId": "aa40ee59-6717-493f-eed6-5489e43a89b6"
      },
      "source": [
        "%cd \"{PROJECT_PATH}\" # 제대로 들어갔는지 확인/폴더확인 "
      ],
      "execution_count": 2,
      "outputs": [
        {
          "output_type": "stream",
          "text": [
            "/content/drive/My Drive/Colab Notebooks/boston_price\n"
          ],
          "name": "stdout"
        }
      ]
    },
    {
      "cell_type": "code",
      "metadata": {
        "id": "XcrvO-O693tx",
        "colab_type": "code",
        "colab": {
          "base_uri": "https://localhost:8080/",
          "height": 35
        },
        "outputId": "1b6e3196-f703-4101-d400-b63846f37dda"
      },
      "source": [
        "!ls  # 폴더에 파일이 제대로 들어갔는지 확인=> 들어가있는 파일명이 결과값으로 나옴\n",
        "#여기까지 과정은 다운받은 데이터를 구글 클라우드에 업로드하고 구글 코랩에서 사용하기위해 연동한 과정"
      ],
      "execution_count": 3,
      "outputs": [
        {
          "output_type": "stream",
          "text": [
            "sample_submission.csv  test.csv  train.csv\n"
          ],
          "name": "stdout"
        }
      ]
    },
    {
      "cell_type": "markdown",
      "metadata": {
        "id": "jVBEqOc0-Qfn",
        "colab_type": "text"
      },
      "source": [
        "### 3. 캐글 데이터 수집 및 EDA(Exploratory Data Analysis: 탐색적 자료분석)\n",
        "- 데이터를 연동한후, 캐글데이터를 구글 코랩에서 활용하기위해 기본정보를 확인하기위한 과정"
      ]
    },
    {
      "cell_type": "code",
      "metadata": {
        "id": "pIE-wBvO_6vt",
        "colab_type": "code",
        "colab": {
          "base_uri": "https://localhost:8080/",
          "height": 73
        },
        "outputId": "555d43cc-0bf2-4661-9c0e-c6df93aac3a2"
      },
      "source": [
        "# 캐글데이터를 활용할때 필요한 필수 패키지, 모듈 실행\n",
        "import pandas as pd                 # 데이터프레임 사용하기위한 모듈\n",
        "import pandas_profiling             # 프로파일을 사용하기위한 모듈(프로파일은 EDA과정에서 data에대한 개요를 제공하는 모듈)\n",
        "                                    #프로파일: 데이터 내 값의 분포, 변수 간의 관계, Null 값과 같은 결측값(missing values) 존재 유무,\n",
        "                                              # 산점도, html형태 변환, 개요요약등 다양한 기능을 내포하고 있음\n",
        "import numpy as np                  # 복잡한 연산,행렬계산에 필요한 모듈 \n",
        "import matplotlib as mpl            # matplotlib은 전체를 아우르는 패키지\n",
        "import matplotlib.pyplot as plt     # matplotlib.pyplot은 mat~ 패키지에서 지원하는 모듈중 하나로 사용환경 인터페이스를 제공함\n",
        "                                    # 겉으로는 드러나지 않으면서 자동으로 figure 와 axes를 생성\n",
        "from matplotlib.pyplot import figure\n",
        "import seaborn as sns               # 시각화 모듈\n",
        "\n",
        "from IPython.core.display import display, HTML\n",
        "from pandas_profiling import ProfileReport"
      ],
      "execution_count": 6,
      "outputs": [
        {
          "output_type": "stream",
          "text": [
            "/usr/local/lib/python3.6/dist-packages/statsmodels/tools/_testing.py:19: FutureWarning: pandas.util.testing is deprecated. Use the functions in the public API at pandas.testing instead.\n",
            "  import pandas.util.testing as tm\n"
          ],
          "name": "stderr"
        }
      ]
    },
    {
      "cell_type": "code",
      "metadata": {
        "id": "gM2BB5zvH0X4",
        "colab_type": "code",
        "colab": {}
      },
      "source": [
        "%matplotlib inline\n",
        "# 자동실행 코드\n",
        "import matplotlib.pylab as plt\n",
        "\n",
        "plt.rcParams[\"figure.figsize\"] = (14,4)\n",
        "plt.rcParams['lines.linewidth'] = 2\n",
        "plt.rcParams['lines.color'] = 'r'\n",
        "plt.rcParams['axes.grid'] = True \n",
        "# 시각화 설정 코드"
      ],
      "execution_count": 7,
      "outputs": []
    },
    {
      "cell_type": "code",
      "metadata": {
        "id": "StA_7MrHH0NI",
        "colab_type": "code",
        "colab": {}
      },
      "source": [
        "train = pd.read_csv('train.csv')\n",
        "test = pd.read_csv('test.csv')"
      ],
      "execution_count": 11,
      "outputs": []
    },
    {
      "cell_type": "code",
      "metadata": {
        "id": "6xY4na6yKdzQ",
        "colab_type": "code",
        "colab": {
          "base_uri": "https://localhost:8080/",
          "height": 35
        },
        "outputId": "4caf31f3-00e6-48b8-e20e-1e54e71da938"
      },
      "source": [
        "train.shape, test.shape\n",
        "# 데이터 제대로 들어왔나 확인\n",
        "# "
      ],
      "execution_count": 12,
      "outputs": [
        {
          "output_type": "execute_result",
          "data": {
            "text/plain": [
              "((1460, 81), (1459, 80))"
            ]
          },
          "metadata": {
            "tags": []
          },
          "execution_count": 12
        }
      ]
    },
    {
      "cell_type": "markdown",
      "metadata": {
        "id": "aYbsVfMY_MYg",
        "colab_type": "text"
      },
      "source": [
        ""
      ]
    }
  ]
}