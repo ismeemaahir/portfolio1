{
  "nbformat": 4,
  "nbformat_minor": 0,
  "metadata": {
    "colab": {
      "name": "200820_18일차_머신러닝회귀분석(교차검증)",
      "provenance": [],
      "collapsed_sections": [
        "-_cUvxJcqEDu",
        "L3p9lpjVp1m-",
        "h5O5AOiKw78u"
      ],
      "authorship_tag": "ABX9TyMvPPA1THj+2PE8os9O4TYk",
      "include_colab_link": true
    },
    "kernelspec": {
      "name": "python3",
      "display_name": "Python 3"
    }
  },
  "cells": [
    {
      "cell_type": "markdown",
      "metadata": {
        "id": "view-in-github",
        "colab_type": "text"
      },
      "source": [
        "<a href=\"https://colab.research.google.com/github/ismeemaahir/portfolio1/blob/master/200820_18%EC%9D%BC%EC%B0%A8_%EB%A8%B8%EC%8B%A0%EB%9F%AC%EB%8B%9D%ED%9A%8C%EA%B7%80%EB%B6%84%EC%84%9D(%EA%B5%90%EC%B0%A8%EA%B2%80%EC%A6%9D).ipynb\" target=\"_parent\"><img src=\"https://colab.research.google.com/assets/colab-badge.svg\" alt=\"Open In Colab\"/></a>"
      ]
    },
    {
      "cell_type": "markdown",
      "metadata": {
        "id": "-_cUvxJcqEDu",
        "colab_type": "text"
      },
      "source": [
        "### 교차검증\n",
        "- 교차검증의 의미\n",
        "- 실습"
      ]
    },
    {
      "cell_type": "markdown",
      "metadata": {
        "id": "L3p9lpjVp1m-",
        "colab_type": "text"
      },
      "source": [
        "### 방법 1.홀드아웃\n",
        "- 데이터: 훈련데이터와 테스트데이터\n",
        "- 훈련데이터: 훈련데이터 + 검증데이터 --> 테스트데이터 "
      ]
    },
    {
      "cell_type": "markdown",
      "metadata": {
        "id": "gsWEZ0-fqOSH",
        "colab_type": "text"
      },
      "source": [
        "### 방법 2. K폴드 교차검증\n",
        "- 데이터 수가 적을때 사용\n",
        "- default 연산량 X K개 만큼\n",
        " "
      ]
    },
    {
      "cell_type": "markdown",
      "metadata": {
        "id": "LynvJ_sov6cW",
        "colab_type": "text"
      },
      "source": [
        "- cross_validation_score"
      ]
    },
    {
      "cell_type": "code",
      "metadata": {
        "id": "gT_BeqDwv4S3",
        "colab_type": "code",
        "colab": {
          "base_uri": "https://localhost:8080/",
          "height": 73
        },
        "outputId": "9f7b2b0b-b1bb-4d2c-c937-d82b2b469f9b"
      },
      "source": [
        "# 교차검증위한 모듈실행\n",
        "\n",
        "import pandas as pd                         # 데이터프레임 모듈\n",
        "import matplotlib.pyplot as plt             # 시각화 모듈\n",
        "import numpy as np                          # 연산 모듈\n",
        "import seaborn as sns                       # 시각화 모듈\n",
        "from scipy import stats                     # 수치해석 기능 모듈/stats는 확률분포분석 기능\n",
        "from sklearn.datasets import load_boston    # 내장데이터 사용(boston 데이터)"
      ],
      "execution_count": null,
      "outputs": [
        {
          "output_type": "stream",
          "text": [
            "/usr/local/lib/python3.6/dist-packages/statsmodels/tools/_testing.py:19: FutureWarning: pandas.util.testing is deprecated. Use the functions in the public API at pandas.testing instead.\n",
            "  import pandas.util.testing as tm\n"
          ],
          "name": "stderr"
        }
      ]
    },
    {
      "cell_type": "code",
      "metadata": {
        "id": "XIOua9JIwf4s",
        "colab_type": "code",
        "colab": {
          "base_uri": "https://localhost:8080/",
          "height": 503
        },
        "outputId": "767dbf7a-d4ee-4700-888e-85a882e0e728"
      },
      "source": [
        "%matplotlib inline\n",
        "# 실행한 브라우저에서 그림을 바로 볼수 있게 해주는 코드\n",
        "boston= load_boston()  # 보스턴 데이터 이름 변경\n",
        "\n",
        "#pandas dataframe 독립변수\n",
        "bostonDF = pd.DataFrame(boston.data, columns=boston.feature_names)  # 보스턴 데이터=> 데이터 프레임화하는 작업\n",
        "                                                                    # 원하는 이름 = pd.DataFrame(바꿔질함수이름.data, columns= 바꿔질함수이름.feature_names)\n",
        "                                                                 \n",
        "\n",
        "#종속변수\n",
        "bostonDF['PRICE'] = boston.target          # 바꿔진데이터프레임 중 하나의 인덱스만 뽑아서 종속변수로 활용\n",
        "                                           # 바꾼 데이터프레임이름['원하는 인덱스']= 데이터이름(데이터프레임이름아님).target\n",
        "\n",
        "print('Size of Dataset:', bostonDF.shape)  # 제대로 입력되었는지 확인(info,head,tail,isnull,describe,mean...)\n",
        "# print(bostonDF)\n",
        "# print(bostonDF['PRICE'])"
      ],
      "execution_count": null,
      "outputs": [
        {
          "output_type": "stream",
          "text": [
            "Size of Dataset: (506, 14)\n",
            "        CRIM    ZN  INDUS  CHAS    NOX  ...    TAX  PTRATIO       B  LSTAT  PRICE\n",
            "0    0.00632  18.0   2.31   0.0  0.538  ...  296.0     15.3  396.90   4.98   24.0\n",
            "1    0.02731   0.0   7.07   0.0  0.469  ...  242.0     17.8  396.90   9.14   21.6\n",
            "2    0.02729   0.0   7.07   0.0  0.469  ...  242.0     17.8  392.83   4.03   34.7\n",
            "3    0.03237   0.0   2.18   0.0  0.458  ...  222.0     18.7  394.63   2.94   33.4\n",
            "4    0.06905   0.0   2.18   0.0  0.458  ...  222.0     18.7  396.90   5.33   36.2\n",
            "..       ...   ...    ...   ...    ...  ...    ...      ...     ...    ...    ...\n",
            "501  0.06263   0.0  11.93   0.0  0.573  ...  273.0     21.0  391.99   9.67   22.4\n",
            "502  0.04527   0.0  11.93   0.0  0.573  ...  273.0     21.0  396.90   9.08   20.6\n",
            "503  0.06076   0.0  11.93   0.0  0.573  ...  273.0     21.0  396.90   5.64   23.9\n",
            "504  0.10959   0.0  11.93   0.0  0.573  ...  273.0     21.0  393.45   6.48   22.0\n",
            "505  0.04741   0.0  11.93   0.0  0.573  ...  273.0     21.0  396.90   7.88   11.9\n",
            "\n",
            "[506 rows x 14 columns]\n",
            "0      24.0\n",
            "1      21.6\n",
            "2      34.7\n",
            "3      33.4\n",
            "4      36.2\n",
            "       ... \n",
            "501    22.4\n",
            "502    20.6\n",
            "503    23.9\n",
            "504    22.0\n",
            "505    11.9\n",
            "Name: PRICE, Length: 506, dtype: float64\n"
          ],
          "name": "stdout"
        }
      ]
    },
    {
      "cell_type": "markdown",
      "metadata": {
        "id": "h5O5AOiKw78u",
        "colab_type": "text"
      },
      "source": [
        "### 데이터 탐색\n",
        "- 시각화, 통계 검정\n",
        "- 시각화 해볼것\n",
        "- 변수 정의"
      ]
    },
    {
      "cell_type": "markdown",
      "metadata": {
        "id": "5QIVARarxqkt",
        "colab_type": "text"
      },
      "source": [
        "## 머신러닝 모형 만들기"
      ]
    },
    {
      "cell_type": "code",
      "metadata": {
        "id": "I7RGujUBxuAj",
        "colab_type": "code",
        "colab": {}
      },
      "source": [
        "#종속변수를 가져와서 훈련,테스트 과정을 거쳐 예측모형, 정확도 판단\n",
        "\n",
        "from sklearn.model_selection import train_test_split\n",
        "# train set(학습데이터셋)과 test set(테스트셋)을 분리하는 모듈 실행\n",
        "from sklearn.linear_model import LinearRegression\n",
        "#일반최소제곱 선형회귀: 선형회귀는 선형모델을 학습헤서 데이터세트에서 관찰된 목표와 선형근사에 의해 예측된 목표사이의 잔차제곱합을 최소화 \n",
        "from sklearn.metrics import mean_squared_error, r2_score\n",
        "#\n",
        "\n",
        "\n",
        "#훈련데이터, 테스트 분리\n",
        "y_target=bostonDF['PRICE']\n",
        "X_data= bostonDF.drop(['PRICE'], axis=1,inplace= False)\n",
        "Y_data= bostonDF.drop(['PRICE'], axis=1,inplace= False)\n",
        "\n",
        "X_train,X_test,y_train,y_test = train_test_split(X_data,y_target,test_size=0.3,random_state=1)\n",
        "\n",
        "# 모형을 만들기-선형회귀\n",
        "lr_model =LinearRegression()\n",
        "lr_model.fit(X_train, y_train)\n",
        "\n",
        "#예측\n",
        "y_preds= lr_model.predict(X_test)\n"
      ],
      "execution_count": null,
      "outputs": []
    },
    {
      "cell_type": "markdown",
      "metadata": {
        "id": "HrS4b07WzQzO",
        "colab_type": "text"
      },
      "source": [
        "- mean_squared_error(MSE): 실제값과 예측값의 차이를 제곱후 평균\n",
        "- MSE를 RMSE로 변환하는 작업: 실제 오류평균보다 더 커지는 특성이 있어 루트를 씌움\n"
      ]
    },
    {
      "cell_type": "code",
      "metadata": {
        "id": "aNCGAwxGzECW",
        "colab_type": "code",
        "colab": {
          "base_uri": "https://localhost:8080/",
          "height": 35
        },
        "outputId": "0e5fd341-c1af-4793-b073-bee2ca5f9728"
      },
      "source": [
        "mse=mean_squared_error(y_test,y_preds)\n",
        "print(mse)"
      ],
      "execution_count": null,
      "outputs": [
        {
          "output_type": "stream",
          "text": [
            "19.831323672062922\n"
          ],
          "name": "stdout"
        }
      ]
    },
    {
      "cell_type": "code",
      "metadata": {
        "id": "sF3Fnul1z2Ge",
        "colab_type": "code",
        "colab": {
          "base_uri": "https://localhost:8080/",
          "height": 35
        },
        "outputId": "81b5e73b-9940-4283-b5f2-9fd26d2badd7"
      },
      "source": [
        "rmse=np.sqrt(mse)\n",
        "print(rmse)"
      ],
      "execution_count": null,
      "outputs": [
        {
          "output_type": "stream",
          "text": [
            "4.4532374371981245\n"
          ],
          "name": "stdout"
        }
      ]
    },
    {
      "cell_type": "markdown",
      "metadata": {
        "id": "--0-RODLz1NV",
        "colab_type": "text"
      },
      "source": [
        "## K폴드를 적용\n",
        "- cross_val_score() 함수 활용해서 RMSE \n",
        "- +5 폴드값, 값이"
      ]
    },
    {
      "cell_type": "code",
      "metadata": {
        "id": "QdokKvIp0Z--",
        "colab_type": "code",
        "colab": {
          "base_uri": "https://localhost:8080/",
          "height": 53
        },
        "outputId": "13f97b1e-6173-4ab7-b14b-be0b58d50194"
      },
      "source": [
        "from sklearn.model_selection import  cross_val_score\n",
        "neg_mse_scores= cross_val_score(lr_model, X_data,Y_data,scoring=\"neg_mean_squared_error\",cv=5)\n",
        "print(neg_mse_scores)"
      ],
      "execution_count": null,
      "outputs": [
        {
          "output_type": "stream",
          "text": [
            "[-3.52582905e-27 -2.76764693e-27 -2.62504714e-27 -8.92031840e-27\n",
            " -4.83809760e-25]\n"
          ],
          "name": "stdout"
        }
      ]
    },
    {
      "cell_type": "code",
      "metadata": {
        "id": "orFm0IAW2yF_",
        "colab_type": "code",
        "colab": {
          "base_uri": "https://localhost:8080/",
          "height": 53
        },
        "outputId": "414e2176-930c-4551-bef3-8bc59e8cfe2d"
      },
      "source": [
        "rmse_scores=np.sqrt(-1* neg_mse_scores)\n",
        "print(rmse_scores)"
      ],
      "execution_count": null,
      "outputs": [
        {
          "output_type": "stream",
          "text": [
            "[5.93786919e-14 5.26084302e-14 5.12352139e-14 9.44474372e-14\n",
            " 6.95564346e-13]\n"
          ],
          "name": "stdout"
        }
      ]
    },
    {
      "cell_type": "code",
      "metadata": {
        "id": "nl-xJSVX1Rml",
        "colab_type": "code",
        "colab": {
          "base_uri": "https://localhost:8080/",
          "height": 35
        },
        "outputId": "a7d08274-4c9b-49a0-9f79-19e6f84ceb85"
      },
      "source": [
        "np.mean(rmse_scores)"
      ],
      "execution_count": null,
      "outputs": [
        {
          "output_type": "execute_result",
          "data": {
            "text/plain": [
              "1.9064682392371389e-13"
            ]
          },
          "metadata": {
            "tags": []
          },
          "execution_count": 20
        }
      ]
    }
  ]
}