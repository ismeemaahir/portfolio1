import numpy as np
np.random.rand(10,2)