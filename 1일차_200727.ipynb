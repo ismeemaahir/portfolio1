print("hello python!!!")

1+3

import numpy as np
np.random.rand(10,2)